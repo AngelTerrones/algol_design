{
 "cells": [
  {
   "cell_type": "markdown",
   "metadata": {
    "slideshow": {
     "slide_type": "slide"
    }
   },
   "source": [
    "# Diseño de un procesador RISC-V (ALGOL)\n",
    "\n",
    "Ángel Terrones"
   ]
  },
  {
   "cell_type": "markdown",
   "metadata": {
    "slideshow": {
     "slide_type": "slide"
    }
   },
   "source": [
    "# RISC-V\n",
    "RISC-V es un conjunto de instrucciones (ISA) creado con el fin de ser usado en eduación e investigación. Desarrollado por la División de Ciencias de la Computación del Departamento de Electrónica y Computación de la Universidad de California, Berkeley (UCB)."
   ]
  },
  {
   "cell_type": "markdown",
   "metadata": {
    "slideshow": {
     "slide_type": "slide"
    }
   },
   "source": [
    "# Especificaciones del ISA (RV32I)\n",
    "\n"
   ]
  },
  {
   "cell_type": "markdown",
   "metadata": {
    "slideshow": {
     "slide_type": "subslide"
    }
   },
   "source": [
    "## Programmers' Model\n",
    "* Sistema de memoria __litte-endian__.\n",
    "* 32 registros de propósito general.\n",
    "    * El registro cero está _hardwired_ a __cero__\n",
    "* 4 formatos de instrucciones __base__:\n",
    "    * R\n",
    "    * I\n",
    "    * S\n",
    "    * U\n",
    "* La ubicación de las fuentes de operandos __son fijas__: _rs1_ y _rs2_.\n",
    "* La ubicación del registro destino __es fija__: _rd_.\n",
    "* Variante para valores inmediatos:\n",
    "    * SB\n",
    "    * UJ\n",
    "* Armar los valores de inmediatos es engorroso (ver __página 12__ del __Volúmen I__ del ISA)."
   ]
  },
  {
   "cell_type": "markdown",
   "metadata": {
    "slideshow": {
     "slide_type": "subslide"
    }
   },
   "source": [
    "## Set de Intrucciones Base de 32 bits (RV32I)\n",
    "(El RV32I también está relacionado con el modo de ejecución de usuario).\n",
    "Existe un total de 37 instrucciones base + 10 relacionadas con acceso (reducido) al sistema.\n",
    "* Cálculo con enteros:\n",
    "    * Register-Immediate.\n",
    "    * Register-Register.\n",
    "* Transferencia de control:\n",
    "    * Saltos incondicionales.\n",
    "    * Saltos condicionales.\n",
    "* Acceso a memoria:\n",
    "    * Load B/BU/H/HU/W\n",
    "    * Store B/H/W\n",
    "* Soporte básico para acceso a la memoria en forma atómica:\n",
    "    * FENCE\n",
    "    * FENCE.I\n",
    "* Instrucciones de sistema:\n",
    "    * SCALL\n",
    "    * SBREAK\n",
    "* Acceso a _timers_ y _contadores_"
   ]
  },
  {
   "cell_type": "markdown",
   "metadata": {
    "slideshow": {
     "slide_type": "subslide"
    }
   },
   "source": [
    "## Lista y formato de las instrucciones RV32I\n"
   ]
  },
  {
   "cell_type": "markdown",
   "metadata": {
    "slideshow": {
     "slide_type": "fragment"
    }
   },
   "source": [
    "![BSOD](img/windows-10-bsods-on-asus-pcs-faulty-hardware-corrupted-page-error-492252-2.jpg)"
   ]
  },
  {
   "cell_type": "markdown",
   "metadata": {
    "slideshow": {
     "slide_type": "fragment"
    }
   },
   "source": [
    "(Muy larga para copiar. Ver resumen en la __página 50__ del __Volúmen I__ del ISA)."
   ]
  },
  {
   "cell_type": "markdown",
   "metadata": {
    "slideshow": {
     "slide_type": "slide"
    }
   },
   "source": [
    "# Especificaciones del Modo Privilegiado.\n"
   ]
  },
  {
   "cell_type": "markdown",
   "metadata": {
    "slideshow": {
     "slide_type": "subslide"
    }
   },
   "source": [
    "## Modos de ejecución\n",
    "Existen 4 modos:\n",
    "* User (U)\n",
    "* Supervisor (S)\n",
    "* Hypervisor (H)\n",
    "* Machine (M)\n",
    "\n",
    "__Obligatoriamente__ debe ser implementado el modo __M__. En este modo, el privilegio de ejecución es máximo."
   ]
  },
  {
   "cell_type": "markdown",
   "metadata": {
    "slideshow": {
     "slide_type": "subslide"
    }
   },
   "source": [
    "## Instrucciones del sistema\n",
    "La lista de instrucciones a implementar para el modo privilegiado se encuentran descritas en la __página 52__.\n",
    "* Excepción de esta lista: \n",
    "    * WFI\n",
    "    * SFENCE.VM.\n",
    "    * MRTS\n",
    "    * MRTH\n",
    "    * HRTS\n",
    "* Pueden ser implementatas como NOPs."
   ]
  },
  {
   "cell_type": "markdown",
   "metadata": {
    "slideshow": {
     "slide_type": "subslide"
    }
   },
   "source": [
    "## Control and Status Register (CSR)\n",
    "\n",
    "Este bloque/módulo no es más que un __register file__. \n",
    "Este bloque abarca un conjunto de registros que, como su nombre indica, sirven para indicar la configuración del procesador. Algunos de estos registros solo pueden ser accesados (RO, R/W) con un nivel de privilegio mínimo. En caso contrario de debe generar una __excepción__.\n",
    "\n",
    "Una lista con direcciones accesibles para cada modo se encuentra disponible en las __páginas 10-13__ del __Volúmen II__"
   ]
  },
  {
   "cell_type": "markdown",
   "metadata": {
    "slideshow": {
     "slide_type": "subslide"
    }
   },
   "source": [
    "## Las intrucciones de acceso al CSR\n",
    "* Leen el valor actual del registro del CSR, y lo almacenan en un registro destino __rd__ en el _register file_.\n",
    "* Actualizan el registro del CSR según el tipo de instrucción:\n",
    "    * Reemplazo completo: CSRRW(I)\n",
    "    * Colocar en 1 ciertos bits según una máscara: CSRRS(I)\n",
    "    * Colocar en 0 ciertos bits según una máscara: CSRRC(I)\n",
    "* Las intrucciones anteriores no __actualizan el registro del CSR__ si:\n",
    "    * El campo __rs1__ es cero.\n",
    "    Esto implica que la operación de escritura en CSR no se realiza, pero la de lectura si."
   ]
  },
  {
   "cell_type": "markdown",
   "metadata": {
    "slideshow": {
     "slide_type": "slide"
    }
   },
   "source": [
    "# Diseño del procesador ALGOL (RV32IM)\n",
    "\n",
    "\n"
   ]
  },
  {
   "cell_type": "markdown",
   "metadata": {
    "slideshow": {
     "slide_type": "fragment"
    }
   },
   "source": [
    "![Algol](img/perseus1.jpg \"The Demon Star\")"
   ]
  },
  {
   "cell_type": "markdown",
   "metadata": {
    "slideshow": {
     "slide_type": "slide"
    }
   },
   "source": [
    "# Especificaciones\n",
    "* Implementación del ISA __RV32IM__.\n",
    "* Segmentado de 5 etapas.\n",
    "* _Forwarding_.\n",
    "* Soporte para modo __UM__ (User and Machine)\n",
    "* Sin predictor de saltos (TODO)\n",
    "* Sin cache (TODO)\n",
    "* Sin memoria virtual (TODO)"
   ]
  },
  {
   "cell_type": "markdown",
   "metadata": {
    "slideshow": {
     "slide_type": "slide"
    }
   },
   "source": [
    "# Lista de componentes necesarios\n",
    "\n",
    "* Register File\n",
    "* ALU\n",
    "* Generador de inmediato.\n",
    "* Multiplexores 4-1\n",
    "* Multiplexores 2-1\n",
    "* CSR\n",
    "* Registros del pipeline:\n",
    "    * PC\n",
    "    * IF->ID\n",
    "    * ID->EX\n",
    "    * EX->MEM\n",
    "    * MEM->WB\n",
    "* Control Unit\n",
    "    * Instruction Decoder.\n",
    "    * Branch detection.\n",
    "    * Hazard detection.\n",
    "    * Pipeline control.\n",
    "    * Interfaz con memoria."
   ]
  },
  {
   "cell_type": "markdown",
   "metadata": {
    "slideshow": {
     "slide_type": "slide"
    }
   },
   "source": [
    "# Register File\n",
    "![RF](img/register_file.gif \"Register File\")\n",
    "\n",
    "* Implementada como una pequeña memoria de 32 words.\n",
    "* Dos puertos de lectura.\n",
    "* Un puerto de escritura.\n",
    "* Tomado del proyecto [__ANTARES__](https://github.com/AngelTerrones/Antares) (procesador MIPS de 32 bits)."
   ]
  },
  {
   "cell_type": "markdown",
   "metadata": {
    "slideshow": {
     "slide_type": "slide"
    }
   },
   "source": [
    "# ALU\n",
    "* Versión simple implementa:\n",
    "    * 2 puertos de entrada de datos.\n",
    "    * 1 puerto de salida.\n",
    "    * Puerto para control (función/opcode).\n",
    "* Funciones implementadas:\n",
    "    * Aritméticas: +, -\n",
    "    * Lógica: &, |, ^\n",
    "    * Shift: LL, LR, AR\n",
    "    * Comparación: SLT, SLTU"
   ]
  },
  {
   "cell_type": "markdown",
   "metadata": {
    "slideshow": {
     "slide_type": "subslide"
    }
   },
   "source": [
    "![ALU](img/alu.png)"
   ]
  },
  {
   "cell_type": "markdown",
   "metadata": {
    "slideshow": {
     "slide_type": "slide"
    }
   },
   "source": [
    "# CSR\n",
    "* ~~Copiado~~Basado en el CSR del proyecto [VScale](https://github.com/ucb-bar/vscale) (RV32I segmentado de 3 etapas, implementado en verilog)."
   ]
  },
  {
   "cell_type": "markdown",
   "metadata": {
    "slideshow": {
     "slide_type": "fragment"
    }
   },
   "source": [
    "* Implementados todos los registros del nivel de usuario.\n",
    "* Implementados todos los registros del nivel de máquina.\n",
    "    * Incluyendo el registro __mtohost__ el cual es necesario para los tests."
   ]
  },
  {
   "cell_type": "markdown",
   "metadata": {
    "slideshow": {
     "slide_type": "fragment"
    }
   },
   "source": [
    "* El CSR se encarga del manejo del estado del procesador (priv level):\n",
    "    * Input: exception flag.\n",
    "    * Input: exception code.\n",
    "    * Input: ERET instruction.\n",
    "    * Input: Bad address for LD/ST.\n",
    "    * Input: PC de la instrucción que __genera__ el fallo.\n",
    "    * Output: PC handler.\n",
    "    * Output: EPC."
   ]
  },
  {
   "cell_type": "markdown",
   "metadata": {
    "slideshow": {
     "slide_type": "fragment"
    }
   },
   "source": [
    "* El CSR se encarga de la detección de interrupciones:\n",
    "    * Output: Interrupt flag.\n",
    "    * Output: Interrupt code."
   ]
  },
  {
   "cell_type": "markdown",
   "metadata": {
    "slideshow": {
     "slide_type": "slide"
    }
   },
   "source": [
    "# Exceptions\n",
    "¿Dónde detectar y procesar las excepciones?"
   ]
  },
  {
   "cell_type": "markdown",
   "metadata": {
    "slideshow": {
     "slide_type": "subslide"
    }
   },
   "source": [
    "## Detectar excepción\n",
    "\n",
    "La detección se hace en las etapas que pueden generar la excepción:\n",
    "* IF\n",
    "* ID\n",
    "* MEM\n",
    "\n",
    "salvo que se requiera alguna información extra, o que dependa de la completa ejecución de las instrucciones anteriores.\n",
    "En tal caso, se retrasa la detección hasta la etapa __MEM__.\n",
    "Ejemplo:\n",
    "* ERET.\n",
    "* System/Environment calls."
   ]
  },
  {
   "cell_type": "markdown",
   "metadata": {
    "slideshow": {
     "slide_type": "subslide"
    }
   },
   "source": [
    "## Procesar las excepciones\n"
   ]
  },
  {
   "cell_type": "markdown",
   "metadata": {
    "slideshow": {
     "slide_type": "fragment"
    }
   },
   "source": [
    "![KISS](img/keep-it-simple-blogger.jpg)"
   ]
  },
  {
   "cell_type": "markdown",
   "metadata": {
    "slideshow": {
     "slide_type": "subslide"
    }
   },
   "source": [
    "Procesar todas las excepciones en la última etapa que las puede generar: __MEM__. Tiene la desventaja de añadir latencia fija para las exceptiones generadas en __IF__ e __ID__."
   ]
  },
  {
   "cell_type": "markdown",
   "metadata": {
    "slideshow": {
     "slide_type": "fragment"
    }
   },
   "source": [
    "Consideraciones:\n",
    "* Implica propagar las señales de excepciones desde __IF__ hasta __MEM__.\n",
    "* Se debe tener cuidado de que instrucciones que generen excepciones no generen nuevas excepciones al transitar por el pipeline.\n",
    "    * En caso de simplificar el control, en necesario mantener la prioridad por histórico: IF > ID > MEM.\n",
    "* El modo privilegiado actual solo es válido en la etapa __MEM__. Por lo que instrucciones que requieren verificar o dependen del modo, deben esperar hasta __MEM__ para realizar el check y hacer _commit_.\n",
    "    * Esto aplica para las instrucciones CSRXY. Sin embargo, el CSR puede (¿__debe__?) detectar accesos ilegales y generar una excepcion.\n",
    "* Al generar una excepcion, el pipeline completo debe ser _reiniciado_, aunque ya esto es __obvio__."
   ]
  },
  {
   "cell_type": "markdown",
   "metadata": {
    "slideshow": {
     "slide_type": "slide"
    }
   },
   "source": [
    "# Verificar el procesador\n",
    "\n",
    "¿Para qué?\n"
   ]
  },
  {
   "cell_type": "markdown",
   "metadata": {
    "slideshow": {
     "slide_type": "fragment"
    }
   },
   "source": [
    "![BUGS EVERYWHERE](img/e52572d331528e9dbcfba78277c7dde1.jpg)"
   ]
  },
  {
   "cell_type": "markdown",
   "metadata": {
    "slideshow": {
     "slide_type": "subslide"
    }
   },
   "source": [
    "![Bugs](img/1743673_10152300393504108_165443790_n.jpg)\n",
    "Hay que tener cuidado al reparar problemas en el código, para evitar insertar más errores en el diseño.\n",
    "\n",
    "Metodología:\n",
    "* Probar el procesador.\n",
    "* Detectar fallas.\n",
    "* Reparar fallas.\n",
    "* Volver a probar el procesador (desde cero, incluyendo test que ya funcionaron).\n",
    "* Detectar fallas.\n",
    "* Repetir hasta cumplir con el 100% de las prueba."
   ]
  },
  {
   "cell_type": "markdown",
   "metadata": {
    "slideshow": {
     "slide_type": "subslide"
    }
   },
   "source": [
    "# Plataforma de pruebas.\n",
    "\n",
    "* Realizada en python.\n",
    "* Se conecta con el procesador usando una memoria de prueba.\n",
    "* Las pruebas estan basadas en programas escritos en ensamblador por los mismos creadores del procesaror [Rocket](https://github.com/ucb-bar/rocket/). Las pruebas están en el repositorio [riscv-test](https://github.com/riscv/riscv-tests)"
   ]
  },
  {
   "cell_type": "markdown",
   "metadata": {
    "slideshow": {
     "slide_type": "slide"
    }
   },
   "source": [
    "# Demo time"
   ]
  },
  {
   "cell_type": "markdown",
   "metadata": {
    "slideshow": {
     "slide_type": "fragment"
    }
   },
   "source": [
    "![Demo](img/62601759.jpg)"
   ]
  }
 ],
 "metadata": {
  "celltoolbar": "Slideshow",
  "kernelspec": {
   "display_name": "Python 3",
   "language": "python",
   "name": "python3"
  },
  "language_info": {
   "codemirror_mode": {
    "name": "ipython",
    "version": 3
   },
   "file_extension": ".py",
   "mimetype": "text/x-python",
   "name": "python",
   "nbconvert_exporter": "python",
   "pygments_lexer": "ipython3",
   "version": "3.5.1"
  }
 },
 "nbformat": 4,
 "nbformat_minor": 0
}
